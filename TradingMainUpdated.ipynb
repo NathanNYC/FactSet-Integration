{
 "cells": [
  {
   "cell_type": "code",
   "execution_count": 1,
   "metadata": {},
   "outputs": [
    {
     "name": "stdout",
     "output_type": "stream",
     "text": [
      "                                             EV  \\\n",
      "0   =FDS(\"MSFT-US\",\"FCS_EV(EV,CURRENT,0,,,,M)\")   \n",
      "1   =FDS(\"AAPL-US\",\"FCS_EV(EV,CURRENT,0,,,,M)\")   \n",
      "2   =FDS(\"AMZN-US\",\"FCS_EV(EV,CURRENT,0,,,,M)\")   \n",
      "3     =FDS(\"FB-US\",\"FCS_EV(EV,CURRENT,0,,,,M)\")   \n",
      "4  =FDS(\"BRK.B-US\",\"FCS_EV(EV,CURRENT,0,,,,M)\")   \n",
      "5    =FDS(\"JNJ-US\",\"FCS_EV(EV,CURRENT,0,,,,M)\")   \n",
      "6   =FDS(\"GOOG-US\",\"FCS_EV(EV,CURRENT,0,,,,M)\")   \n",
      "7  =FDS(\"GOOGL-US\",\"FCS_EV(EV,CURRENT,0,,,,M)\")   \n",
      "8     =FDS(\"PG-US\",\"FCS_EV(EV,CURRENT,0,,,,M)\")   \n",
      "9    =FDS(\"JPM-US\",\"FCS_EV(EV,CURRENT,0,,,,M)\")   \n",
      "\n",
      "                                               Sales  \n",
      "0  =FDS(\"MSFT-US\",\"FE_ESTIMATE(SALES,MEAN,ANN_ROL...  \n",
      "1  =FDS(\"AAPL-US\",\"FE_ESTIMATE(SALES,MEAN,ANN_ROL...  \n",
      "2  =FDS(\"AMZN-US\",\"FE_ESTIMATE(SALES,MEAN,ANN_ROL...  \n",
      "3  =FDS(\"FB-US\",\"FE_ESTIMATE(SALES,MEAN,ANN_ROLL,...  \n",
      "4  =FDS(\"BRK.B-US\",\"FE_ESTIMATE(SALES,MEAN,ANN_RO...  \n",
      "5  =FDS(\"JNJ-US\",\"FE_ESTIMATE(SALES,MEAN,ANN_ROLL...  \n",
      "6  =FDS(\"GOOG-US\",\"FE_ESTIMATE(SALES,MEAN,ANN_ROL...  \n",
      "7  =FDS(\"GOOGL-US\",\"FE_ESTIMATE(SALES,MEAN,ANN_RO...  \n",
      "8  =FDS(\"PG-US\",\"FE_ESTIMATE(SALES,MEAN,ANN_ROLL,...  \n",
      "9  =FDS(\"JPM-US\",\"FE_ESTIMATE(SALES,MEAN,ANN_ROLL...  \n"
     ]
    }
   ],
   "source": [
    "import pandas as pd \n",
    "import numpy as np\n",
    "import csv\n",
    "\n",
    "#FactSet codes \n",
    "#=FDS(\"DRRX-US\",\"FCS_EV(EV,CURRENT,0,,,,M)\")\n",
    "#=FDS(\"ICPT-US\",\"FE_ESTIMATE(SALES,MEAN,ANN_ROLL,2020,0,,,'')\")\n",
    "\n",
    "#initialize the list for EV \n",
    "list1=[]\n",
    "new_list=[]\n",
    "new_list=\"=FDS(\\\"\" * 10 #have this number to match the number of tickers brought in below \n",
    "\n",
    "#initialize the list for Sales \n",
    "list1a=[]\n",
    "new_lista=[]\n",
    "new_lista=\"=FDS(\\\"\" * 10 #have this number to match the number of tickers brought in below \n",
    "\n",
    "#bring in the list of tickers \n",
    "x=pd.read_csv('C:/Users/nsw26/Desktop/Coding projects/trading_project/tops.csv',header=0)\n",
    "for y in x['Ticker']:\n",
    "   list1.append(y)\n",
    "\n",
    "for y in x['Ticker']:\n",
    "   list1a.append(y)\n",
    "\n",
    "#this builds the FDS codes around the ticker for EV \n",
    "list2=[\"=FDS(\\\"\" + x for x in list1]\n",
    "list3=[\"-US\\\",\\\"FCS_EV(EV,CURRENT,0,,,,M)\\\")\"]*10\n",
    "list4=[x+y for x,y in zip(list2,list3)]\n",
    "\n",
    "#this builds the FDS codes around the ticker for sales \n",
    "list2a=[\"=FDS(\\\"\" + x for x in list1a]\n",
    "list3a=[\"-US\\\",\\\"FE_ESTIMATE(SALES,MEAN,ANN_ROLL,2020,0,,,'')\\\")\"]*10\n",
    "list4a=[a+b for a,b in zip(list2a,list3a)]\n",
    "\n",
    "\n",
    "\n",
    "#send the finsihed product out to a new .csv file \n",
    "out_frame=pd.DataFrame({\"EV\":list4,\"Sales\":list4a}) \n",
    "out_frame.to_csv ('C:/Users/nsw26/Desktop/Coding projects/trading_project/fit1.csv', index = False, header=True)\n",
    "print(out_frame)\n",
    "\n",
    "#out_frame2=pd.DataFrame({\"Sales\":list4a})\n",
    "#print(out_frame2)"
   ]
  }
 ],
 "metadata": {
  "kernelspec": {
   "display_name": "Python 3",
   "language": "python",
   "name": "python3"
  },
  "language_info": {
   "codemirror_mode": {
    "name": "ipython",
    "version": 3
   },
   "file_extension": ".py",
   "mimetype": "text/x-python",
   "name": "python",
   "nbconvert_exporter": "python",
   "pygments_lexer": "ipython3",
   "version": "3.6.2"
  }
 },
 "nbformat": 4,
 "nbformat_minor": 2
}
