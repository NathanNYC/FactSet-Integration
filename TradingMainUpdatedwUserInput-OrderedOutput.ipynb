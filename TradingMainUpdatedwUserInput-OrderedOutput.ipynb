{
 "cells": [
  {
   "cell_type": "code",
   "execution_count": null,
   "metadata": {},
   "outputs": [
    {
     "name": "stdout",
     "output_type": "stream",
     "text": [
      "So far, you entered: []\n"
     ]
    }
   ],
   "source": [
    "import pandas as pd \n",
    "import numpy as np\n",
    "import csv\n",
    "\n",
    "#=FDS(\"DRRX-US\",\"FCS_EV(EV,CURRENT,0,,,,M)\")\n",
    "#=FDS(\"ICPT-US\",\"FE_ESTIMATE(SALES,MEAN,ANN_ROLL,2020,0,,,'')\")\n",
    "#=FDS(\"AAPL-US\",\"FE_ESTIMATE(EPS,MEAN,QTR_ROLL,+1,NOW,,,'')\")\n",
    "    \n",
    "def tickerInput():\n",
    "    again = \"y\"\n",
    "    list1=[]\n",
    "    while again == \"y\" or again == \"yes\":\n",
    "        print(\"So far, you entered:\",list1)\n",
    "        getTicker=input(\"Enter a ticker:\")\n",
    "        list1.append(getTicker)\n",
    "        try:\n",
    "            again=input(\"Again?\")\n",
    "        except: print(\"Only enter y/n\")\n",
    "    return list1\n",
    "\n",
    "def buildEVcodes(list1):\n",
    "    list2=[\"=FDS(\\\"\" + x for x in list1]\n",
    "    list3=[\"-US\\\",\\\"FCS_EV(EV,CURRENT,0,,,,M)\\\")\"]*len(list1)\n",
    "    list4=[x+y for x,y in zip(list2,list3)]\n",
    "    return list4\n",
    "\n",
    "def buildSalescodes(list1):\n",
    "    list2a=[\"=FDS(\\\"\" + x for x in list1]\n",
    "    list3a=[\"-US\\\",\\\"FE_ESTIMATE(SALES,MEAN,ANN_ROLL,2020,0,,,'')\\\")\"]*len(list1)\n",
    "    list4a=[a+b for a,b in zip(list2a,list3a)]\n",
    "    return list4a\n",
    "\n",
    "def buildEarningscodes(list1):\n",
    "    list2b=[\"=FDS(\\\"\" + x for x in list1]\n",
    "    list3b=[\"-US\\\",\\\"FE_ESTIMATE(EPS,MEAN,QTR_ROLL,+1,NOW,,,'')\\\")\"]*len(list1)\n",
    "    list4b=[x+y for x,y in zip(list2b,list3b)]\n",
    "    return list4b\n",
    "\n",
    "def sendout(list1,list4,list4a,list4b): \n",
    "    #outframe = pd.DataFrame(list(zip(list1, list4, list4a, list4b), columns = [\"Tickers\", \"EV\", \"Sales\", \"Earnings\"]))\n",
    "    outframe=list(zip(list1,list4,list4a,list4b))\n",
    "    x=pd.DataFrame(outframe,columns=['Tickers','EV','Sales','Earnings'])\n",
    "    x.to_csv ('C:/Users/nsw26/Desktop/Coding projects/trading_project/fit1.csv', index = False, header=True)\n",
    "    print(outframe)\n",
    "       \n",
    "    \n",
    "def main():\n",
    "    list1=tickerInput()\n",
    "    list4=buildEVcodes(list1)\n",
    "    list4a=buildSalescodes(list1)\n",
    "    list4b=buildEarningscodes(list1)\n",
    "    sendout(list1,list4,list4a,list4b)\n",
    "    \n",
    "    \n",
    "if __name__==\"__main__\": main()\n"
   ]
  }
 ],
 "metadata": {
  "kernelspec": {
   "display_name": "Python 3",
   "language": "python",
   "name": "python3"
  },
  "language_info": {
   "codemirror_mode": {
    "name": "ipython",
    "version": 3
   },
   "file_extension": ".py",
   "mimetype": "text/x-python",
   "name": "python",
   "nbconvert_exporter": "python",
   "pygments_lexer": "ipython3",
   "version": "3.6.2"
  }
 },
 "nbformat": 4,
 "nbformat_minor": 2
}
